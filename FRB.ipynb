{
  "nbformat": 4,
  "nbformat_minor": 0,
  "metadata": {
    "colab": {
      "name": "FRB.ipynb",
      "provenance": [],
      "collapsed_sections": [],
      "machine_shape": "hm",
      "include_colab_link": true
    },
    "kernelspec": {
      "name": "python3",
      "display_name": "Python 3"
    }
  },
  "cells": [
    {
      "cell_type": "markdown",
      "metadata": {
        "id": "view-in-github",
        "colab_type": "text"
      },
      "source": [
        "<a href=\"https://colab.research.google.com/github/am610/FRB/blob/master/FRB.ipynb\" target=\"_parent\"><img src=\"https://colab.research.google.com/assets/colab-badge.svg\" alt=\"Open In Colab\"/></a>"
      ]
    },
    {
      "cell_type": "code",
      "metadata": {
        "id": "7HRyIdzBXBsh",
        "colab_type": "code",
        "outputId": "5fda7870-0001-4325-b624-815639165613",
        "colab": {
          "base_uri": "https://localhost:8080/",
          "height": 425
        }
      },
      "source": [
        "!pip install lmfit\n",
        "import lmfit\n",
        "import pandas as pd\n",
        "import numpy as np\n",
        "from scipy import integrate\n",
        "from scipy.optimize import least_squares, curve_fit\n",
        "from scipy import stats\n",
        "import matplotlib.pyplot as plt\n",
        "from matplotlib.ticker import (MultipleLocator, FormatStrFormatter,AutoMinorLocator)  \n",
        "from mpl_toolkits.axes_grid1 import make_axes_locatable\n",
        "import io"
      ],
      "execution_count": 0,
      "outputs": [
        {
          "output_type": "stream",
          "text": [
            "Collecting lmfit\n",
            "\u001b[?25l  Downloading https://files.pythonhosted.org/packages/82/99/e7cc83cb946955232477554248e86cb43691d8dd30be1d6ac70d64c202d3/lmfit-1.0.0.tar.gz (258kB)\n",
            "\u001b[K     |████████████████████████████████| 266kB 9.1MB/s \n",
            "\u001b[?25hCollecting asteval>=0.9.16\n",
            "\u001b[?25l  Downloading https://files.pythonhosted.org/packages/e4/3b/8aaee90977588fa3e88d7a495af306d6f4a1c1c01c8f0fe0de1fc43d0908/asteval-0.9.18.tar.gz (52kB)\n",
            "\u001b[K     |████████████████████████████████| 61kB 8.8MB/s \n",
            "\u001b[?25hRequirement already satisfied: numpy>=1.16 in /usr/local/lib/python3.6/dist-packages (from lmfit) (1.18.3)\n",
            "Requirement already satisfied: scipy>=1.2 in /usr/local/lib/python3.6/dist-packages (from lmfit) (1.4.1)\n",
            "Collecting uncertainties>=3.0.1\n",
            "\u001b[?25l  Downloading https://files.pythonhosted.org/packages/2a/c2/babbe5b16141859dd799ed31c03987100a7b6d0ca7c0ed4429c96ce60fdf/uncertainties-3.1.2.tar.gz (232kB)\n",
            "\u001b[K     |████████████████████████████████| 235kB 29.0MB/s \n",
            "\u001b[?25hBuilding wheels for collected packages: lmfit, asteval, uncertainties\n",
            "  Building wheel for lmfit (setup.py) ... \u001b[?25l\u001b[?25hdone\n",
            "  Created wheel for lmfit: filename=lmfit-1.0.0-cp36-none-any.whl size=87917 sha256=245792f64fe0f4f88aeb3085f96544fcdfda69bf084caa79c942e313f6d9a147\n",
            "  Stored in directory: /root/.cache/pip/wheels/1f/93/e9/8d3f759e466f5bbfed3ba1d7dc5b3d4389c469a1ec9a2acaee\n",
            "  Building wheel for asteval (setup.py) ... \u001b[?25l\u001b[?25hdone\n",
            "  Created wheel for asteval: filename=asteval-0.9.18-cp36-none-any.whl size=17381 sha256=32f1158340d5a022356d915a17cfa95ee3da3a82daef332290772217a621fc6a\n",
            "  Stored in directory: /root/.cache/pip/wheels/1c/53/1b/28d929700c9633b1786a4982e6db564ec8326a8930234dcc19\n",
            "  Building wheel for uncertainties (setup.py) ... \u001b[?25l\u001b[?25hdone\n",
            "  Created wheel for uncertainties: filename=uncertainties-3.1.2-cp36-none-any.whl size=96458 sha256=6f66903af18028d389fdd985e8d33ed1af02ac8b05a5ee45b79838f35bfac299\n",
            "  Stored in directory: /root/.cache/pip/wheels/d9/d3/0e/5b0b743a8abd50373705427438456da5dc2621891138d7a618\n",
            "Successfully built lmfit asteval uncertainties\n",
            "Installing collected packages: asteval, uncertainties, lmfit\n",
            "Successfully installed asteval-0.9.18 lmfit-1.0.0 uncertainties-3.1.2\n"
          ],
          "name": "stdout"
        }
      ]
    },
    {
      "cell_type": "code",
      "metadata": {
        "id": "gVYcP1kNep2q",
        "colab_type": "code",
        "colab": {}
      },
      "source": [
        "plt.rc('xtick', labelsize=10) \n",
        "plt.rc('ytick', labelsize=10) \n",
        "plt.rcParams.update({'font.size': 10})\n",
        "#plt.rcParams['figure.figsize'] = [20,10] # Use this to change the plot size"
      ],
      "execution_count": 0,
      "outputs": []
    },
    {
      "cell_type": "code",
      "metadata": {
        "id": "RXTk5dQkXgZq",
        "colab_type": "code",
        "outputId": "dc5fdd97-6afa-4d4b-a9f0-88f5b2cec5f0",
        "colab": {
          "resources": {
            "http://localhost:8080/nbextensions/google.colab/files.js": {
              "data": "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",
              "ok": true,
              "headers": [
                [
                  "content-type",
                  "application/javascript"
                ]
              ],
              "status": 200,
              "status_text": ""
            }
          },
          "base_uri": "https://localhost:8080/",
          "height": 76
        }
      },
      "source": [
        "from google.colab import files\n",
        "uploaded = files.upload()\n"
      ],
      "execution_count": 0,
      "outputs": [
        {
          "output_type": "display_data",
          "data": {
            "text/html": [
              "\n",
              "     <input type=\"file\" id=\"files-23e24207-5a46-46a9-9eb0-ae52965dcbbe\" name=\"files[]\" multiple disabled />\n",
              "     <output id=\"result-23e24207-5a46-46a9-9eb0-ae52965dcbbe\">\n",
              "      Upload widget is only available when the cell has been executed in the\n",
              "      current browser session. Please rerun this cell to enable.\n",
              "      </output>\n",
              "      <script src=\"/nbextensions/google.colab/files.js\"></script> "
            ],
            "text/plain": [
              "<IPython.core.display.HTML object>"
            ]
          },
          "metadata": {
            "tags": []
          }
        },
        {
          "output_type": "stream",
          "text": [
            "Saving galaxy_model.csv to galaxy_model.csv\n"
          ],
          "name": "stdout"
        }
      ]
    },
    {
      "cell_type": "code",
      "metadata": {
        "id": "Afwrcd0NX0hQ",
        "colab_type": "code",
        "colab": {}
      },
      "source": [
        "\n",
        "spark = pd.read_csv(io.BytesIO(uploaded['galaxy_model.csv']),delimiter=r\"\\s+\")"
      ],
      "execution_count": 0,
      "outputs": []
    },
    {
      "cell_type": "code",
      "metadata": {
        "id": "RE_J4bhDZdzH",
        "colab_type": "code",
        "outputId": "6b4f3f7a-ac02-4f76-af3f-274fdfa8888b",
        "colab": {
          "base_uri": "https://localhost:8080/",
          "height": 419
        }
      },
      "source": [
        "spark"
      ],
      "execution_count": 0,
      "outputs": [
        {
          "output_type": "execute_result",
          "data": {
            "text/html": [
              "<div>\n",
              "<style scoped>\n",
              "    .dataframe tbody tr th:only-of-type {\n",
              "        vertical-align: middle;\n",
              "    }\n",
              "\n",
              "    .dataframe tbody tr th {\n",
              "        vertical-align: top;\n",
              "    }\n",
              "\n",
              "    .dataframe thead th {\n",
              "        text-align: right;\n",
              "    }\n",
              "</style>\n",
              "<table border=\"1\" class=\"dataframe\">\n",
              "  <thead>\n",
              "    <tr style=\"text-align: right;\">\n",
              "      <th></th>\n",
              "      <th>ID</th>\n",
              "      <th>M2L</th>\n",
              "      <th>e_M2L</th>\n",
              "      <th>M2Lb</th>\n",
              "      <th>T</th>\n",
              "      <th>D</th>\n",
              "      <th>e_D</th>\n",
              "      <th>inc</th>\n",
              "      <th>e_inc</th>\n",
              "      <th>L[3.6]</th>\n",
              "      <th>e_L[3.6]</th>\n",
              "      <th>Lbulge</th>\n",
              "      <th>Reff</th>\n",
              "      <th>Rp</th>\n",
              "      <th>SBeff</th>\n",
              "      <th>e_SBeff</th>\n",
              "      <th>Rdisk</th>\n",
              "      <th>SB0</th>\n",
              "      <th>e_SB0</th>\n",
              "      <th>Mbar</th>\n",
              "      <th>e_Mbar</th>\n",
              "      <th>SBbar</th>\n",
              "      <th>e_SBbar</th>\n",
              "      <th>Vp</th>\n",
              "      <th>e_Vp</th>\n",
              "      <th>Vb</th>\n",
              "      <th>e_Vb</th>\n",
              "    </tr>\n",
              "  </thead>\n",
              "  <tbody>\n",
              "    <tr>\n",
              "      <th>0</th>\n",
              "      <td>CamB</td>\n",
              "      <td>0.11</td>\n",
              "      <td>0.000</td>\n",
              "      <td>0.0</td>\n",
              "      <td>10</td>\n",
              "      <td>3.36</td>\n",
              "      <td>0.26</td>\n",
              "      <td>65.0</td>\n",
              "      <td>5.0</td>\n",
              "      <td>0.075</td>\n",
              "      <td>0.003</td>\n",
              "      <td>0.0</td>\n",
              "      <td>1.21</td>\n",
              "      <td>1.22</td>\n",
              "      <td>3.334</td>\n",
              "      <td>0.123</td>\n",
              "      <td>0.47</td>\n",
              "      <td>2.960</td>\n",
              "      <td>0.037</td>\n",
              "      <td>0.01</td>\n",
              "      <td>0.000</td>\n",
              "      <td>2.754</td>\n",
              "      <td>0.110</td>\n",
              "      <td>16.8</td>\n",
              "      <td>1.50</td>\n",
              "      <td>9.940</td>\n",
              "      <td>0.000</td>\n",
              "    </tr>\n",
              "    <tr>\n",
              "      <th>1</th>\n",
              "      <td>D512-2</td>\n",
              "      <td>2.37</td>\n",
              "      <td>0.093</td>\n",
              "      <td>0.0</td>\n",
              "      <td>10</td>\n",
              "      <td>15.20</td>\n",
              "      <td>4.56</td>\n",
              "      <td>56.0</td>\n",
              "      <td>10.0</td>\n",
              "      <td>0.325</td>\n",
              "      <td>0.022</td>\n",
              "      <td>0.0</td>\n",
              "      <td>2.37</td>\n",
              "      <td>1.92</td>\n",
              "      <td>5.156</td>\n",
              "      <td>0.501</td>\n",
              "      <td>1.24</td>\n",
              "      <td>124.589</td>\n",
              "      <td>4.908</td>\n",
              "      <td>0.77</td>\n",
              "      <td>0.060</td>\n",
              "      <td>156.824</td>\n",
              "      <td>12.282</td>\n",
              "      <td>33.5</td>\n",
              "      <td>2.71</td>\n",
              "      <td>33.240</td>\n",
              "      <td>0.632</td>\n",
              "    </tr>\n",
              "    <tr>\n",
              "      <th>2</th>\n",
              "      <td>D564-8</td>\n",
              "      <td>2.37</td>\n",
              "      <td>0.558</td>\n",
              "      <td>0.0</td>\n",
              "      <td>10</td>\n",
              "      <td>8.79</td>\n",
              "      <td>0.28</td>\n",
              "      <td>63.0</td>\n",
              "      <td>7.0</td>\n",
              "      <td>0.033</td>\n",
              "      <td>0.004</td>\n",
              "      <td>0.0</td>\n",
              "      <td>0.72</td>\n",
              "      <td>1.53</td>\n",
              "      <td>4.590</td>\n",
              "      <td>0.254</td>\n",
              "      <td>0.61</td>\n",
              "      <td>22.740</td>\n",
              "      <td>5.353</td>\n",
              "      <td>0.08</td>\n",
              "      <td>0.021</td>\n",
              "      <td>14.098</td>\n",
              "      <td>3.733</td>\n",
              "      <td>21.9</td>\n",
              "      <td>1.82</td>\n",
              "      <td>15.364</td>\n",
              "      <td>1.500</td>\n",
              "    </tr>\n",
              "    <tr>\n",
              "      <th>3</th>\n",
              "      <td>D631-7</td>\n",
              "      <td>0.92</td>\n",
              "      <td>0.000</td>\n",
              "      <td>0.0</td>\n",
              "      <td>10</td>\n",
              "      <td>7.72</td>\n",
              "      <td>0.18</td>\n",
              "      <td>59.0</td>\n",
              "      <td>3.0</td>\n",
              "      <td>0.196</td>\n",
              "      <td>0.009</td>\n",
              "      <td>0.0</td>\n",
              "      <td>1.22</td>\n",
              "      <td>1.80</td>\n",
              "      <td>10.780</td>\n",
              "      <td>0.291</td>\n",
              "      <td>0.70</td>\n",
              "      <td>54.594</td>\n",
              "      <td>0.027</td>\n",
              "      <td>0.18</td>\n",
              "      <td>0.008</td>\n",
              "      <td>41.805</td>\n",
              "      <td>1.920</td>\n",
              "      <td>30.9</td>\n",
              "      <td>2.22</td>\n",
              "      <td>27.771</td>\n",
              "      <td>0.000</td>\n",
              "    </tr>\n",
              "    <tr>\n",
              "      <th>4</th>\n",
              "      <td>DDO064</td>\n",
              "      <td>2.19</td>\n",
              "      <td>0.195</td>\n",
              "      <td>0.0</td>\n",
              "      <td>10</td>\n",
              "      <td>6.80</td>\n",
              "      <td>2.04</td>\n",
              "      <td>60.0</td>\n",
              "      <td>5.0</td>\n",
              "      <td>0.157</td>\n",
              "      <td>0.007</td>\n",
              "      <td>0.0</td>\n",
              "      <td>1.20</td>\n",
              "      <td>2.08</td>\n",
              "      <td>8.705</td>\n",
              "      <td>0.379</td>\n",
              "      <td>0.69</td>\n",
              "      <td>165.982</td>\n",
              "      <td>14.813</td>\n",
              "      <td>0.34</td>\n",
              "      <td>0.034</td>\n",
              "      <td>29.025</td>\n",
              "      <td>2.896</td>\n",
              "      <td>46.9</td>\n",
              "      <td>8.65</td>\n",
              "      <td>34.414</td>\n",
              "      <td>1.035</td>\n",
              "    </tr>\n",
              "    <tr>\n",
              "      <th>...</th>\n",
              "      <td>...</td>\n",
              "      <td>...</td>\n",
              "      <td>...</td>\n",
              "      <td>...</td>\n",
              "      <td>...</td>\n",
              "      <td>...</td>\n",
              "      <td>...</td>\n",
              "      <td>...</td>\n",
              "      <td>...</td>\n",
              "      <td>...</td>\n",
              "      <td>...</td>\n",
              "      <td>...</td>\n",
              "      <td>...</td>\n",
              "      <td>...</td>\n",
              "      <td>...</td>\n",
              "      <td>...</td>\n",
              "      <td>...</td>\n",
              "      <td>...</td>\n",
              "      <td>...</td>\n",
              "      <td>...</td>\n",
              "      <td>...</td>\n",
              "      <td>...</td>\n",
              "      <td>...</td>\n",
              "      <td>...</td>\n",
              "      <td>...</td>\n",
              "      <td>...</td>\n",
              "      <td>...</td>\n",
              "    </tr>\n",
              "    <tr>\n",
              "      <th>170</th>\n",
              "      <td>UGC12632</td>\n",
              "      <td>3.44</td>\n",
              "      <td>0.154</td>\n",
              "      <td>0.0</td>\n",
              "      <td>9</td>\n",
              "      <td>9.77</td>\n",
              "      <td>2.93</td>\n",
              "      <td>46.0</td>\n",
              "      <td>3.0</td>\n",
              "      <td>1.301</td>\n",
              "      <td>0.030</td>\n",
              "      <td>0.0</td>\n",
              "      <td>3.94</td>\n",
              "      <td>6.40</td>\n",
              "      <td>9.093</td>\n",
              "      <td>0.331</td>\n",
              "      <td>2.42</td>\n",
              "      <td>159.864</td>\n",
              "      <td>7.134</td>\n",
              "      <td>4.48</td>\n",
              "      <td>0.225</td>\n",
              "      <td>29.577</td>\n",
              "      <td>1.486</td>\n",
              "      <td>73.1</td>\n",
              "      <td>2.79</td>\n",
              "      <td>60.031</td>\n",
              "      <td>1.211</td>\n",
              "    </tr>\n",
              "    <tr>\n",
              "      <th>171</th>\n",
              "      <td>UGC12732</td>\n",
              "      <td>3.27</td>\n",
              "      <td>0.000</td>\n",
              "      <td>0.0</td>\n",
              "      <td>9</td>\n",
              "      <td>13.20</td>\n",
              "      <td>4.00</td>\n",
              "      <td>39.0</td>\n",
              "      <td>6.0</td>\n",
              "      <td>1.667</td>\n",
              "      <td>0.048</td>\n",
              "      <td>0.0</td>\n",
              "      <td>3.12</td>\n",
              "      <td>6.72</td>\n",
              "      <td>20.859</td>\n",
              "      <td>1.694</td>\n",
              "      <td>1.98</td>\n",
              "      <td>305.660</td>\n",
              "      <td>0.081</td>\n",
              "      <td>5.44</td>\n",
              "      <td>0.157</td>\n",
              "      <td>17.213</td>\n",
              "      <td>0.496</td>\n",
              "      <td>98.0</td>\n",
              "      <td>3.18</td>\n",
              "      <td>65.602</td>\n",
              "      <td>0.000</td>\n",
              "    </tr>\n",
              "    <tr>\n",
              "      <th>172</th>\n",
              "      <td>UGCA281</td>\n",
              "      <td>1.62</td>\n",
              "      <td>0.052</td>\n",
              "      <td>0.0</td>\n",
              "      <td>11</td>\n",
              "      <td>5.68</td>\n",
              "      <td>0.28</td>\n",
              "      <td>67.0</td>\n",
              "      <td>3.0</td>\n",
              "      <td>0.194</td>\n",
              "      <td>0.007</td>\n",
              "      <td>0.0</td>\n",
              "      <td>1.57</td>\n",
              "      <td>0.74</td>\n",
              "      <td>4.884</td>\n",
              "      <td>0.100</td>\n",
              "      <td>1.72</td>\n",
              "      <td>7.609</td>\n",
              "      <td>0.244</td>\n",
              "      <td>0.31</td>\n",
              "      <td>0.015</td>\n",
              "      <td>429.422</td>\n",
              "      <td>20.692</td>\n",
              "      <td>27.5</td>\n",
              "      <td>1.59</td>\n",
              "      <td>24.303</td>\n",
              "      <td>0.333</td>\n",
              "    </tr>\n",
              "    <tr>\n",
              "      <th>173</th>\n",
              "      <td>UGCA442</td>\n",
              "      <td>7.00</td>\n",
              "      <td>1.214</td>\n",
              "      <td>0.0</td>\n",
              "      <td>9</td>\n",
              "      <td>4.35</td>\n",
              "      <td>0.22</td>\n",
              "      <td>64.0</td>\n",
              "      <td>7.0</td>\n",
              "      <td>0.140</td>\n",
              "      <td>0.005</td>\n",
              "      <td>0.0</td>\n",
              "      <td>1.71</td>\n",
              "      <td>2.96</td>\n",
              "      <td>3.332</td>\n",
              "      <td>0.178</td>\n",
              "      <td>1.18</td>\n",
              "      <td>356.196</td>\n",
              "      <td>61.769</td>\n",
              "      <td>0.98</td>\n",
              "      <td>0.173</td>\n",
              "      <td>83.873</td>\n",
              "      <td>14.850</td>\n",
              "      <td>49.0</td>\n",
              "      <td>1.91</td>\n",
              "      <td>41.699</td>\n",
              "      <td>2.570</td>\n",
              "    </tr>\n",
              "    <tr>\n",
              "      <th>174</th>\n",
              "      <td>UGCA444</td>\n",
              "      <td>14.70</td>\n",
              "      <td>0.000</td>\n",
              "      <td>0.0</td>\n",
              "      <td>10</td>\n",
              "      <td>0.98</td>\n",
              "      <td>0.05</td>\n",
              "      <td>78.0</td>\n",
              "      <td>4.0</td>\n",
              "      <td>0.012</td>\n",
              "      <td>0.000</td>\n",
              "      <td>0.0</td>\n",
              "      <td>0.41</td>\n",
              "      <td>2.33</td>\n",
              "      <td>2.482</td>\n",
              "      <td>0.036</td>\n",
              "      <td>0.83</td>\n",
              "      <td>69.482</td>\n",
              "      <td>0.015</td>\n",
              "      <td>0.18</td>\n",
              "      <td>0.000</td>\n",
              "      <td>29.708</td>\n",
              "      <td>0.000</td>\n",
              "      <td>33.7</td>\n",
              "      <td>4.73</td>\n",
              "      <td>25.915</td>\n",
              "      <td>0.000</td>\n",
              "    </tr>\n",
              "  </tbody>\n",
              "</table>\n",
              "<p>175 rows × 27 columns</p>\n",
              "</div>"
            ],
            "text/plain": [
              "           ID    M2L  e_M2L  M2Lb   T  ...  e_SBbar    Vp  e_Vp      Vb   e_Vb\n",
              "0        CamB   0.11  0.000   0.0  10  ...    0.110  16.8  1.50   9.940  0.000\n",
              "1      D512-2   2.37  0.093   0.0  10  ...   12.282  33.5  2.71  33.240  0.632\n",
              "2      D564-8   2.37  0.558   0.0  10  ...    3.733  21.9  1.82  15.364  1.500\n",
              "3      D631-7   0.92  0.000   0.0  10  ...    1.920  30.9  2.22  27.771  0.000\n",
              "4      DDO064   2.19  0.195   0.0  10  ...    2.896  46.9  8.65  34.414  1.035\n",
              "..        ...    ...    ...   ...  ..  ...      ...   ...   ...     ...    ...\n",
              "170  UGC12632   3.44  0.154   0.0   9  ...    1.486  73.1  2.79  60.031  1.211\n",
              "171  UGC12732   3.27  0.000   0.0   9  ...    0.496  98.0  3.18  65.602  0.000\n",
              "172   UGCA281   1.62  0.052   0.0  11  ...   20.692  27.5  1.59  24.303  0.333\n",
              "173   UGCA442   7.00  1.214   0.0   9  ...   14.850  49.0  1.91  41.699  2.570\n",
              "174   UGCA444  14.70  0.000   0.0  10  ...    0.000  33.7  4.73  25.915  0.000\n",
              "\n",
              "[175 rows x 27 columns]"
            ]
          },
          "metadata": {
            "tags": []
          },
          "execution_count": 6
        }
      ]
    },
    {
      "cell_type": "code",
      "metadata": {
        "id": "wlnESmoZZg93",
        "colab_type": "code",
        "outputId": "1b8dac66-171f-4663-d85a-df22ec384006",
        "colab": {
          "base_uri": "https://localhost:8080/",
          "height": 297
        }
      },
      "source": [
        "plt.plot(spark['Mbar'],spark['Reff']**3,'*')\n",
        "#plt.xlim(-5,200)\n",
        "plt.xlabel('M_bar')"
      ],
      "execution_count": 0,
      "outputs": [
        {
          "output_type": "execute_result",
          "data": {
            "text/plain": [
              "Text(0.5, 0, 'M_bar')"
            ]
          },
          "metadata": {
            "tags": []
          },
          "execution_count": 7
        },
        {
          "output_type": "display_data",
          "data": {
            "image/png": "[encoded data removed]",
            "text/plain": [
              "<Figure size 432x288 with 1 Axes>"
            ]
          },
          "metadata": {
            "tags": [],
            "needs_background": "light"
          }
        }
      ]
    },
    {
      "cell_type": "code",
      "metadata": {
        "id": "qf_AyyrdZ4nq",
        "colab_type": "code",
        "colab": {}
      },
      "source": [
        "r_list = spark['Rdisk']\n",
        "m_list = spark['Mbar']\n",
        "#from numpy import random"
      ],
      "execution_count": 0,
      "outputs": []
    },
    {
      "cell_type": "code",
      "metadata": {
        "id": "-ujONfjwN7Ip",
        "colab_type": "code",
        "outputId": "08480430-a952-4d73-89ca-3f4dd66bddc8",
        "colab": {
          "base_uri": "https://localhost:8080/",
          "height": 34
        }
      },
      "source": [
        "def rand_in_sphere(): #randomize the location of FRB in HII region, and generate the path length of FRB traveled in \n",
        "  R_prime=10\n",
        "  while R_prime>1:\n",
        "    x=(np.random.rand()-0.5)*2\n",
        "    y=(np.random.rand()-0.5)*2\n",
        "    z=(np.random.rand()-0.5)*2\n",
        "    R_prime = np.sqrt(x**2+y**2+z**2)\n",
        "  return z+np.sqrt(1-x**2-y**2) #projection of the point to shell \n",
        "print(rand_in_sphere())"
      ],
      "execution_count": 0,
      "outputs": [
        {
          "output_type": "stream",
          "text": [
            "0.25145889313536496\n"
          ],
          "name": "stdout"
        }
      ]
    },
    {
      "cell_type": "code",
      "metadata": {
        "id": "oOn6vVS_aBhz",
        "colab_type": "code",
        "outputId": "45a61f03-931a-4c6f-a82b-ae431cb2c638",
        "colab": {
          "base_uri": "https://localhost:8080/",
          "height": 34
        }
      },
      "source": [
        "def DM_local(m_galaxy,r_char): #local environment contribution, modeled from HII region\n",
        "  r_char = r_char.to_numpy()\n",
        "  rv = stats.norm(0, r_char)\n",
        "  r = np.abs(rv.rvs())\n",
        "  R = 10**(0.3*np.random.randn()+2.1)\n",
        "  if r/r_char*2.8 < 1.4 or r/r_char*2.8>4.6:\n",
        "    ne_mean = 45.8*np.exp(r/(r_char/2.8*10))*(R)**(-0.55)\n",
        "  else: \n",
        "    ne_mean = 28.9*(R)**(-0.55)\n",
        "  density_corr = (m_galaxy*1e9/5e10)/(r_char/2.8)**3\n",
        "  return ne_mean*rand_in_sphere()*R*density_corr\n",
        "\n",
        "\n",
        "def DM_disk(m_galaxy, r_char): #ISM contribution in galaxy disk\n",
        "  theta = np.random.rand()*90 #random for viewing angle, 0 to 90 deg\n",
        "  omega = 35.36*np.exp(0.009625*theta) + 0.004973*np.exp(0.1266*theta)\n",
        "  alpha = 3.003*np.exp(-0.0008232*theta) + 1.54e-15*np.exp(0.3867*theta)\n",
        "  eta = 66.52*np.exp(-((theta - 90)/21.02)**2)+27.56*np.exp(-((theta - 90)/114.4)**2)\n",
        "  rv = stats.skewnorm(alpha, eta, omega)\n",
        "  x_choice = rv.rvs()\n",
        "  return x_choice*(m_galaxy*1e9/1.2e11)/(r_char/3.6)**2\n",
        "\n",
        "\n",
        "def DM_galaxy(n): #The DM contributed by HII regions inside host galaxy\n",
        "  DM_local_arr=np.zeros(n)\n",
        "  DM_disk_arr=np.zeros(n)\n",
        "  for i in range(n): #simulation for n times\n",
        "    no_pick = np.random.choice(np.arange(len(r_list)), 1, replace=True, p=m_list/np.sum(m_list)) #pick one galaxy from list\n",
        "    r_char = r_list[no_pick]  #galaxy radius\n",
        "    m_galaxy = m_list[no_pick] #galaxy mass\n",
        "    DM_local_arr[i] = DM_local(m_galaxy, r_char)\n",
        "    DM_disk_arr[i] = DM_disk(m_galaxy, r_char)\n",
        "  return DM_local_arr+DM_disk_arr, np.std(DM_local_arr),np.mean(DM_local_arr), np.std(DM_disk_arr), np.mean(DM_disk_arr), np.mean(DM_local_arr+DM_disk_arr), np.std(DM_local_arr+DM_disk_arr)\n",
        "\n",
        "print(DM_galaxy(100)[1:])"
      ],
      "execution_count": 0,
      "outputs": [
        {
          "output_type": "stream",
          "text": [
            "(242.26579218065297, 179.12529675960343, 117.18622611491348, 75.89238819352948, 255.01768495313289, 286.2552844468403)\n"
          ],
          "name": "stdout"
        }
      ]
    },
    {
      "cell_type": "code",
      "metadata": {
        "id": "iZSZEGBn-VaK",
        "colab_type": "code",
        "colab": {}
      },
      "source": [
        "def X_he_z(z, z_limit): #function defining the electron density in IGM, with HeII reionization happening in z_limit\n",
        "  omega_m = 0.3 #no unit\n",
        "  c = 3*10**8 #ms-1\n",
        "  H_0 = 67740*10**(-6) #m s-1 pc-1\n",
        "  omega_b = 0.049 #no unit\n",
        "  f_IGM = 0.83 #no unit\n",
        "  G = 6.674*10**(-11) #m3?kg?1?s?2\n",
        "  mp = 1.6726219*10**(-27) #kg\n",
        "\n",
        "  constant = (1/1000000)*(3.24078*10**(-17))**2*3*c*H_0*omega_b*f_IGM/(8*np.pi*G*mp)\n",
        "  x_h=1.\n",
        "\n",
        "  Xe_He_II = z>z_limit\n",
        "  Xe_He_III = z<=z_limit\n",
        "  x_he = (Xe_He_II + 2*Xe_He_III)\n",
        "  fe = (0.757*x_h + 0.243/4*x_he)\n",
        "  Num = fe*(1+z)\n",
        "  Den = (omega_m*((1+z)**3)+(1-omega_m))**(0.5)\n",
        "  I = constant*Num/Den\n",
        "\n",
        "\n",
        "  matter = [x_h, x_he, Xe_He_II, Xe_He_III, fe]\n",
        "  return I\n"
      ],
      "execution_count": 0,
      "outputs": []
    },
    {
      "cell_type": "code",
      "metadata": {
        "id": "QTRmQT3zLJwl",
        "colab_type": "code",
        "outputId": "a76827a3-8542-4fce-ef81-e6adf501be69",
        "colab": {
          "base_uri": "https://localhost:8080/",
          "height": 51
        }
      },
      "source": [
        "z = np.array(np.linspace(1,6,6))\n",
        "print(X_he_z(z, 3.))\n",
        "aa = X_he_z(z, 3.)"
      ],
      "execution_count": 0,
      "outputs": [
        {
          "output_type": "stream",
          "text": [
            "[926.2496309  824.62940655 731.159879   614.03907533 562.71473369\n",
            " 522.006425  ]\n"
          ],
          "name": "stdout"
        }
      ]
    },
    {
      "cell_type": "code",
      "metadata": {
        "id": "w3vajSOBB0DL",
        "colab_type": "code",
        "colab": {}
      },
      "source": [
        "def DM_z_reion(zdata, z_reion): #integral of the electron density in IGM\n",
        "  DM = np.zeros(len(zdata))\n",
        "  for i in range(len(zdata)):\n",
        "    #print(z_reion)\n",
        "    DM[i] = integrate.quad(X_he_z, 0, zdata[i],args=(z_reion))[0]\n",
        "  return DM"
      ],
      "execution_count": 0,
      "outputs": []
    },
    {
      "cell_type": "code",
      "metadata": {
        "id": "xZJjtIOZLY4-",
        "colab_type": "code",
        "outputId": "aef56dd6-e4bf-4da7-9c43-a30761f3534c",
        "colab": {
          "base_uri": "https://localhost:8080/",
          "height": 746
        }
      },
      "source": [
        "z = np.linspace(0, 5, 100)\n",
        "reion = DM_z_reion(z, 3)\n",
        "noreion = DM_z_reion(z, 10)\n",
        "\n",
        "plt.rcParams['figure.figsize'] = [10,10]    \n",
        "fig = plt.figure()\n",
        "ax1 = fig.add_subplot()\n",
        "\n",
        "ax1.plot(z, reion, 'r')\n",
        "ax1.plot(z, noreion)\n",
        "plt.ylabel('DM ($pc\\ cm^{-3}$)')\n",
        "plt.xlabel('redshift z')\n",
        "# These are in unitless percentages of the figure size. (0,0 is bottom left)\n",
        "left, bottom, width, height = [0.2, 0.6, 0.3, 0.25]\n",
        "ax2 = fig.add_axes([left, bottom, width, height])\n",
        "\n",
        "left, bottom, width, height = [0.55, 0.2, 0.3, 0.25]\n",
        "ax3 = fig.add_axes([left, bottom, width, height])\n",
        "\n",
        "\n",
        "ax2.plot(z[60:70], reion[60:70])\n",
        "ax2.plot(z[60:70], noreion[60:70])\n",
        "ax3.plot(z[70:80], reion[70:80])\n",
        "ax3.plot(z[70:80], noreion[70:80])\n",
        "plt.tight_layout()\n",
        "plt.show()\n"
      ],
      "execution_count": 0,
      "outputs": [
        {
          "output_type": "stream",
          "text": [
            "/usr/local/lib/python3.6/dist-packages/ipykernel_launcher.py:25: UserWarning: This figure includes Axes that are not compatible with tight_layout, so results might be incorrect.\n"
          ],
          "name": "stderr"
        },
        {
          "output_type": "display_data",
          "data": {
            "image/png": "[encoded data removed]",
            "text/plain": [
              "<Figure size 720x720 with 3 Axes>"
            ]
          },
          "metadata": {
            "tags": [],
            "needs_background": "light"
          }
        }
      ]
    },
    {
      "cell_type": "code",
      "metadata": {
        "id": "MQcVCCpYWMp6",
        "colab_type": "code",
        "outputId": "8b113be7-e934-4853-db0d-7d34505822cd",
        "colab": {
          "base_uri": "https://localhost:8080/",
          "height": 102
        }
      },
      "source": [
        "def integrand_var(z):\n",
        "  a = 3.079\n",
        "  b = -1.429\n",
        "  c = 0.6597\n",
        "  d = -0.3328\n",
        "  return 1/((1+z)**2)*(a*np.exp(b*z)+c*np.exp(d*z))/np.sqrt(0.3*(1+z)**3+0.7)\n",
        "\n",
        "\n",
        "def sigma_DM_IGM(z):\n",
        "  sigma_DM_IGM_1p5 = 280;\n",
        "  return integrate.quad(integrand_var, 0, z)[0]/integrate.quad(integrand_var, 0, 1.5)[0]*sigma_DM_IGM_1p5\n",
        "\n",
        "def DM_IGM_fluctuation(z):\n",
        "  z_arr = np.array(z)\n",
        "  result = np.zeros(len(z_arr))\n",
        "  for i in range(len(z_arr)):\n",
        "    result[i] = np.random.normal(0, sigma_DM_IGM(z_arr[i]))\n",
        "  return result\n",
        "print(DM_IGM_fluctuation([0.5, 1, 1.5, 2, 2.5, 3]))\n",
        "print(sigma_DM_IGM(1.5))\n",
        "print(sigma_DM_IGM(3))\n",
        "print(sigma_DM_IGM(6))"
      ],
      "execution_count": 0,
      "outputs": [
        {
          "output_type": "stream",
          "text": [
            "[ 44.95934086 222.11052952 175.08505844 144.06708886  26.44079794\n",
            " 380.3879265 ]\n",
            "280.0\n",
            "286.43335665941885\n",
            "287.25905763884316\n"
          ],
          "name": "stdout"
        }
      ]
    },
    {
      "cell_type": "code",
      "metadata": {
        "id": "ZmrxamonRunh",
        "colab_type": "code",
        "outputId": "2a876690-152b-4736-8584-717176bc7a7d",
        "colab": {
          "base_uri": "https://localhost:8080/",
          "height": 314
        }
      },
      "source": [
        "#data generation\n",
        "def data(no_trials, z_reion, z_min, z_max):\n",
        "  z=np.random.rand(no_trials)*(z_max-z_min)+z_min #Here we generate random point between z_min and z_max\n",
        "  DM_output = DM_z_reion(z,z_reion) + DM_galaxy(no_trials)[0]/(1+z) + DM_IGM_fluctuation(z)\n",
        "  noise = np.mean(DM_galaxy(no_trials)[0]/(1+z))\n",
        "  return z, DM_output, noise\n",
        "\n",
        "z_reion = 3. # set the reionization z here\n",
        "z, DM_output, noise = data(1000, z_reion, 3, 4) #if reion happens at z = 3\n",
        "#plt.scatter(z,DM_output)\n",
        "\n",
        "z_reion2 = 10. # set the reionization z here\n",
        "z2, DM_output2, noise2 = data(1000, z_reion2, 3, 4) #if reion happened much earlier (I wrote 10 here)\n",
        "#plt.scatter(z2,DM_output2)\n",
        "\n",
        "print(noise)\n",
        "# Plotting\n",
        "fig, axes = plt.subplots()\n",
        "\n",
        "z_plot = np.linspace(3, 4, 100)\n",
        "reion = DM_z_reion(z_plot, 3)\n",
        "noreion = DM_z_reion(z_plot, 10)\n",
        "axes.plot(z_plot, reion)\n",
        "axes.plot(z_plot, noreion)\n",
        "\n",
        "\n",
        "axes.scatter(z,DM_output, label='$z_r = 3$', marker = '.')\n",
        "axes.scatter(z2,DM_output2,alpha=0.5,label='$z_r>4$', marker = '.')\n",
        "axes.yaxis.set_ticks_position('both') \n",
        "axes.xaxis.set_ticks_position('both')                                                                                                                                                                                                                                                                                                                                            \n",
        "axes.yaxis.set_minor_locator(AutoMinorLocator()) \n",
        "axes.xaxis.set_minor_locator(AutoMinorLocator())\n",
        "axes.set_xlabel('Redshift z');axes.set_ylabel('DM ($pc \\ cm^{-3}$)')\n",
        "plt.legend()\n",
        "plt.tight_layout()\n",
        "plt.savefig('DM-1.pdf',bbox_inches='tight')\n",
        "files.download('DM-1.pdf') # Use this to download the plot"
      ],
      "execution_count": 0,
      "outputs": [
        {
          "output_type": "stream",
          "text": [
            "57.759900849295704\n"
          ],
          "name": "stdout"
        },
        {
          "output_type": "display_data",
          "data": {
            "image/png": "[encoded data removed]",
            "text/plain": [
              "<Figure size 432x288 with 1 Axes>"
            ]
          },
          "metadata": {
            "tags": [],
            "needs_background": "light"
          }
        }
      ]
    },
    {
      "cell_type": "code",
      "metadata": {
        "id": "xeO-2bPZQb8r",
        "colab_type": "code",
        "outputId": "bd9f795e-7629-4b9c-bb42-bf7796dafe5c",
        "colab": {
          "base_uri": "https://localhost:8080/",
          "height": 51
        }
      },
      "source": [
        "def testing_model(P, z_reion, z_test): #define hypothesis testing function for some z_reion\n",
        "  return DM_z_reion(z_test, 10)+P*(DM_z_reion(z_test, z_reion) - DM_z_reion(z_test, 10))\n",
        "\n",
        "def Wrapper(P, z_reion, z_test, DM_test, noise): #residue vector wrapper for the above model\n",
        "  return testing_model(P, z_reion, z_test) - DM_test + noise\n",
        "\n",
        "x0=0\n",
        "res_lsq = least_squares(Wrapper, x0, method='trf', args=(3, z, DM_output, noise))\n",
        "print(res_lsq.x)\n",
        "J= res_lsq.jac\n",
        "cov = np.linalg.inv(J.T.dot(J))\n",
        "print(np.sqrt(np.diagonal(cov)))"
      ],
      "execution_count": 0,
      "outputs": [
        {
          "output_type": "stream",
          "text": [
            "[1.13013873]\n",
            "[0.00111547]\n"
          ],
          "name": "stdout"
        }
      ]
    },
    {
      "cell_type": "code",
      "metadata": {
        "id": "Y6AXGQzNWAH0",
        "colab_type": "code",
        "outputId": "c2aa2e3c-f100-4fa4-87be-ca4c2fbd70d4",
        "colab": {
          "base_uri": "https://localhost:8080/",
          "height": 867
        }
      },
      "source": [
        "\n",
        "'''#try fitting for different variables and repeat to obtain mean and std\n",
        "z_min = 3\n",
        "z_max = 4\n",
        "no_points = 1\n",
        "no_trial = 5\n",
        "sample_points = 5\n",
        "P_mean = np.zeros((sample_points, sample_points))\n",
        "P_min = np.zeros((sample_points, sample_points))\n",
        "P_max = np.zeros((sample_points, sample_points))\n",
        "P_std = np.zeros((sample_points, sample_points))\n",
        "for i in range(sample_points):\n",
        "  for j in range(sample_points):\n",
        "    P = np.zeros(no_trial)\n",
        "    for k in range (no_trial):\n",
        "      z, DM_output, noise = data(no_points, 3+i/sample_points, z_min, z_max)\n",
        "      res_lsq = least_squares(Wrapper, x0, method='trf', args=(3+j/sample_points, z, DM_output, noise))\n",
        "      P[k] = res_lsq.x\n",
        "    print(P) #raw result output\n",
        "    P_mean[i,j] = np.mean(P)\n",
        "    P_min[i,j] = np.min(P)\n",
        "    P_max[i,j] = np.max(P)\n",
        "    P_std[i,j] = np.std(P)\n",
        "\n",
        "print(P_mean) #mean of P output\n",
        "print(P_min) #minimum\n",
        "print(P_max) #maximum\n",
        "print(P_std) #standard deviation'''"
      ],
      "execution_count": 0,
      "outputs": [
        {
          "output_type": "stream",
          "text": [
            "[  3.74969995 224.03763237  -1.5925775   -0.35982983  -6.81291481]\n",
            "[ 0.         -3.26674413  0.         -8.4919882   1.4219512 ]\n",
            "[ 0.          1.44177346 13.54436054  0.          5.65371964]\n",
            "[   0.          -13.52401564 -130.77609008    0.            4.94874201]\n",
            "[  4.83543874 144.36250511  -1.7747064    0.           0.        ]\n",
            "[-4.33610684 -2.22313666 11.95020185  3.5329543  -7.01439594]\n",
            "[12.17426533 -0.07481385  0.         23.55464479  5.4523208 ]\n",
            "[-1.04598456 -3.26223165  2.18439848  3.6846904  11.7112313 ]\n",
            "[  0.         -23.8118648  -22.88060908   0.         -34.33523497]\n",
            "[ 0.         12.66897403  0.          0.          0.        ]\n",
            "[-6.84387344 -8.8447052   6.20824691 -2.09718748 -0.85723308]\n",
            "[  0.          -7.50978174 -16.69570147  -7.79804433  -0.20301569]\n",
            "[ 2.95165181  0.          0.         -5.86917919  5.15975062]\n",
            "[ 0.         25.31017417  0.          0.          0.        ]\n",
            "[  0.           0.           0.           0.         -55.54879024]\n",
            "[ 1.51218491 -3.97696251  4.19826218  2.35710161 17.54121358]\n",
            "[ 0.          0.          3.31133382 -3.02097362  0.        ]\n",
            "[ 11.00894691 -10.73623004  -0.36314183   0.          -3.25519281]\n",
            "[   0.            0.            0.            0.         -132.69282712]\n",
            "[0. 0. 0. 0. 0.]\n",
            "[ 6.7760356  -3.01868114 -7.93283047 13.23833802 20.87598733]\n",
            "[ -2.53184463   4.16928214 -17.69143583   9.40045909  -2.7583232 ]\n",
            "[  6.01686102  13.54256838   0.          -3.04944188 -20.98476755]\n",
            "[ 0.         -2.89477651  0.          0.          0.        ]\n",
            "[0. 0. 0. 0. 0.]\n",
            "[[ 43.80440204  -2.06735623   4.12797073 -27.87027274  29.48464749]\n",
            " [  0.38190334   8.22128341   2.65442079 -16.20554177   2.53379481]\n",
            " [ -2.48695046  -6.44130865   0.44844465   5.06203483 -11.10975805]\n",
            " [  4.32635995   0.05807204  -0.66912355 -26.53856542   0.        ]\n",
            " [  5.98776987  -1.88237248  -0.89495601  -0.5789553    0.        ]]\n",
            "[[-6.81291481e+00 -8.49198820e+00  0.00000000e+00 -1.30776090e+02\n",
            "  -1.77470640e+00]\n",
            " [-7.01439594e+00 -7.48138509e-02 -3.26223165e+00 -3.43352350e+01\n",
            "   0.00000000e+00]\n",
            " [-8.84470520e+00 -1.66957015e+01 -5.86917919e+00  0.00000000e+00\n",
            "  -5.55487902e+01]\n",
            " [-3.97696251e+00 -3.02097362e+00 -1.07362300e+01 -1.32692827e+02\n",
            "   0.00000000e+00]\n",
            " [-7.93283047e+00 -1.76914358e+01 -2.09847676e+01 -2.89477651e+00\n",
            "   0.00000000e+00]]\n",
            "[[224.03763237   1.4219512   13.54436054   4.94874201 144.36250511]\n",
            " [ 11.95020185  23.55464479  11.7112313    0.          12.66897403]\n",
            " [  6.20824691   0.           5.15975062  25.31017417   0.        ]\n",
            " [ 17.54121358   3.31133382  11.00894691   0.           0.        ]\n",
            " [ 20.87598733   9.40045909  13.54256838   0.           0.        ]]\n",
            "[[90.17968104  3.561955    5.14377774 51.818943   57.48102599]\n",
            " [ 6.74545401  8.88616815  5.13824812 13.82995023  5.06758961]\n",
            " [ 5.25010808  6.1407116   3.70882802 10.12406967 22.2195161 ]\n",
            " [ 7.14690827  2.00371413  6.99932951 53.07713085  0.        ]\n",
            " [10.48570831  9.11087701 11.5348048   1.1579106   0.        ]]\n"
          ],
          "name": "stdout"
        }
      ]
    },
    {
      "cell_type": "code",
      "metadata": {
        "id": "2AW9mycwbY4l",
        "colab_type": "code",
        "outputId": "2278c30d-a546-43e2-f99f-93dce6f01938",
        "colab": {
          "base_uri": "https://localhost:8080/",
          "height": 156
        }
      },
      "source": [
        "'''\n",
        "pars = lmfit.Parameters()\n",
        "pars.add_many(('a', 0.1), ('z', 3))\n",
        "def Wrapper_lmfit(Par,z_test, DM_test, noise):\n",
        "  return testing_model(Par['a'], Par['z'], z_test) - DM_test + noise\n",
        "\n",
        "no_points = 10\n",
        "\n",
        "z, DM_output, noise = data(no_points, 3, 3, 4)\n",
        "\n",
        "mini = lmfit.Minimizer(Wrapper_lmfit, pars, fcn_args=(z, DM_output, noise))\n",
        "result = mini.minimize()\n",
        "for name, param in result.params.items():\n",
        "    print(name)\n",
        "    print(param.value)\n",
        "    print(param.stderr)\n",
        "\n",
        "#print(result.params.valuesdict()['a'])\n",
        "#print(result.params.valuesdict()['z'])\n",
        "'''\n",
        "\n",
        "'''\n",
        "nx_ny=10\n",
        "#ci = lmfit.conf_interval(mini, result)\n",
        "gr=np.zeros((nx_ny,nx_ny,10))\n",
        "for i in range(10):\n",
        "  z, DM_output, noise = data(no_points, 3, 3, 4)\n",
        "\n",
        "  mini = lmfit.Minimizer(Wrapper_lmfit, pars, fcn_args=(z, DM_output, noise))\n",
        "  result = mini.minimize()\n",
        "  x, y, gr[:,:,i] = lmfit.conf_interval2d(mini, result, 'a','z',nx=nx_ny, ny=nx_ny, limits=((0,2),(2.4, 3.6)))\n",
        "\n",
        "gr = np.average(gr, axis=2)\n",
        "ctp = plt.contourf(x, y, gr, np.linspace(0, 1, 101))\n",
        "plt.colorbar(ctp)\n",
        "\n",
        "\n",
        "#lmfit.printfuncs.report_ci(ci)\n",
        "'''\n",
        "\n",
        "\n",
        "\n",
        "\n"
      ],
      "execution_count": 0,
      "outputs": [
        {
          "output_type": "stream",
          "text": [
            "a\n",
            "0.5768139022760158\n",
            "6.406391319766374\n",
            "z\n",
            "3.184288576443635\n",
            "4.616785263373087\n"
          ],
          "name": "stdout"
        },
        {
          "output_type": "execute_result",
          "data": {
            "text/plain": [
              "\"\\nnx_ny=10\\n#ci = lmfit.conf_interval(mini, result)\\ngr=np.zeros((nx_ny,nx_ny,10))\\nfor i in range(10):\\n  z, DM_output, noise = data(no_points, 3, 3, 4)\\n\\n  mini = lmfit.Minimizer(Wrapper_lmfit, pars, fcn_args=(z, DM_output, noise))\\n  result = mini.minimize()\\n  x, y, gr[:,:,i] = lmfit.conf_interval2d(mini, result, 'a','z',nx=nx_ny, ny=nx_ny, limits=((0,2),(2.4, 3.6)))\\n\\ngr = np.average(gr, axis=2)\\nctp = plt.contourf(x, y, gr, np.linspace(0, 1, 101))\\nplt.colorbar(ctp)\\n\\n\\n#lmfit.printfuncs.report_ci(ci)\\n\""
            ]
          },
          "metadata": {
            "tags": []
          },
          "execution_count": 18
        }
      ]
    },
    {
      "cell_type": "code",
      "metadata": {
        "id": "gcdb6ZqLMUnn",
        "colab_type": "code",
        "outputId": "8a8e74a0-da58-4f52-fb94-165c83fd8ccb",
        "colab": {
          "base_uri": "https://localhost:8080/",
          "height": 85
        }
      },
      "source": [
        "pars = lmfit.Parameters()\n",
        "pars.add('z', 3)\n",
        "def Wrapper_lmfit_2(Par,z_test, DM_test):\n",
        "  return DM_z_reion(z_test, Par['z']) - (DM_test-275/(1+z_test))\n",
        "\n",
        "min_num = 1 #this indicate minimum number of samples is 10\n",
        "max_num = 2 #this indicate maximum number of samples is 1000\n",
        "min_z = 3\n",
        "max_z = 4\n",
        "z_reion = 3\n",
        "grid_num = 3\n",
        "\n",
        "sigma=np.zeros(grid_num)\n",
        "no_points = np.round(np.logspace(min_num, max_num, grid_num))\n",
        "for j in range(grid_num):\n",
        "  trials = int(np.ceil(10**max_num/no_points[j]))\n",
        "  print(trials)\n",
        "  std = np.zeros(trials)\n",
        "  mean = np.zeros(trials)\n",
        "  for i in range(trials):\n",
        "    z, DM_output,noise = data(int(no_points[j]), z_reion, min_z, max_z)\n",
        "    mini = lmfit.Minimizer(Wrapper_lmfit_2, pars, fcn_args=(z, DM_output))\n",
        "    result = mini.minimize()\n",
        "    z_result = result.params.pop('z')\n",
        "    if z_result.stderr is None:\n",
        "      z_result.stderr = 3\n",
        "    std[i] = z_result.stderr\n",
        "    mean[i] = z_result.value\n",
        "  sigma[j] = np.mean(std)\n",
        "\n",
        "print(sigma)\n",
        "\n"
      ],
      "execution_count": 0,
      "outputs": [
        {
          "output_type": "stream",
          "text": [
            "10\n",
            "4\n",
            "1\n",
            "[2.44366496 0.64898649 0.35499275]\n"
          ],
          "name": "stdout"
        }
      ]
    },
    {
      "cell_type": "code",
      "metadata": {
        "id": "ZviKjvqact_Y",
        "colab_type": "code",
        "outputId": "e501954f-813c-4e4f-b800-0620f01490b3",
        "colab": {
          "base_uri": "https://localhost:8080/",
          "height": 289
        }
      },
      "source": [
        "min_num = 1 #this indicate minimum number of samples is 10^min_num\n",
        "max_num = 2 #this indicate maximum number of samples is 10^max_num\n",
        "min_z = 3\n",
        "max_z = 4\n",
        "z_reion = 3\n",
        "grid_num = 3\n",
        "max_error_z = 0.2 #max. error in z = 20%\n",
        "\n",
        "sigma=np.zeros((grid_num+1, grid_num))\n",
        "for k in range(grid_num+1):\n",
        "  no_points = np.round(np.logspace(min_num, max_num, grid_num))\n",
        "  for j in range(grid_num):\n",
        "    trials = int(np.ceil(10**max_num/no_points[j]))\n",
        "    print(trials)\n",
        "    std = np.zeros(trials)\n",
        "    mean = np.zeros(trials)\n",
        "    for i in range(trials):\n",
        "      z, DM_output,noise = data(int(no_points[j]), z_reion, min_z, max_z)\n",
        "      z_err = np.random.randn(len(z))*max_error_z/grid_num*k*z\n",
        "      z = z+z_err\n",
        "      #print(z)\n",
        "      #print(np.random.randn(len(z))*max_error_z/grid_num*k)\n",
        "      #print(z_err)\n",
        "      mini = lmfit.Minimizer(Wrapper_lmfit_2, pars, fcn_args=(z, DM_output))\n",
        "      result = mini.minimize()\n",
        "      z_result = result.params.pop('z')\n",
        "      if z_result.stderr is None or z_result.stderr>3:\n",
        "        z_result.stderr = 3\n",
        "      std[i] = z_result.stderr\n",
        "      mean[i] = z_result.value\n",
        "    sigma[k,j] = np.mean(std)\n",
        "  \n",
        "print(sigma)\n",
        "\n"
      ],
      "execution_count": 0,
      "outputs": [
        {
          "output_type": "stream",
          "text": [
            "10\n",
            "4\n",
            "1\n",
            "10\n",
            "4\n",
            "1\n",
            "10\n",
            "4\n",
            "1\n",
            "10\n",
            "4\n",
            "1\n",
            "[[2.08569762 0.77771334 0.2474363 ]\n",
            " [2.25485747 0.63802686 0.20771447]\n",
            " [1.3646468  0.71895715 0.11812712]\n",
            " [2.85161455 1.77221557 1.10318986]]\n"
          ],
          "name": "stdout"
        }
      ]
    },
    {
      "cell_type": "code",
      "metadata": {
        "id": "hKanNVSgboMW",
        "colab_type": "code",
        "outputId": "312ac176-1586-4f64-eeb1-f70448e1c35f",
        "colab": {
          "base_uri": "https://localhost:8080/",
          "height": 297
        }
      },
      "source": [
        "fig, axes = plt.subplots()\n",
        "#print(np.abs(P_mean-1))\n",
        "divider = make_axes_locatable(axes)\n",
        "cax = divider.append_axes('right', size='5%', pad=0.05)\n",
        "im = axes.imshow(np.abs(P_mean-1))\n",
        "fig.colorbar(im,cax=cax, orientation='vertical')\n",
        "#plt.imshow(P_std)\n",
        "plt.tight_layout()\n",
        "plt.savefig('DM-2.pdf')\n",
        "#files.download('DM-2.pdf')"
      ],
      "execution_count": 0,
      "outputs": [
        {
          "output_type": "display_data",
          "data": {
            "image/png": "[encoded data removed]",
            "text/plain": [
              "<Figure size 432x288 with 2 Axes>"
            ]
          },
          "metadata": {
            "tags": [],
            "needs_background": "light"
          }
        }
      ]
    },
    {
      "cell_type": "code",
      "metadata": {
        "id": "BNgd0hPTnbn5",
        "colab_type": "code",
        "outputId": "f978fbb0-2126-4e2a-c1c4-0a3b8013eb65",
        "colab": {
          "resources": {
            "http://localhost:8080/nbextensions/google.colab/files.js": {
              "data": "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",
              "ok": true,
              "headers": [
                [
                  "content-type",
                  "application/javascript"
                ]
              ],
              "status": 200,
              "status_text": ""
            }
          },
          "base_uri": "https://localhost:8080/",
          "height": 71
        }
      },
      "source": [
        "u1000_1=files.upload()\n",
        "#p_mean_1000 = pd.read_csv(io.BytesIO(uploaded['p_mean_1000.csv']),delimiter=',')"
      ],
      "execution_count": 0,
      "outputs": [
        {
          "output_type": "display_data",
          "data": {
            "text/html": [
              "\n",
              "     <input type=\"file\" id=\"files-97dd1afb-e764-43c2-8aea-a0c2fbaa5b8d\" name=\"files[]\" multiple disabled />\n",
              "     <output id=\"result-97dd1afb-e764-43c2-8aea-a0c2fbaa5b8d\">\n",
              "      Upload widget is only available when the cell has been executed in the\n",
              "      current browser session. Please rerun this cell to enable.\n",
              "      </output>\n",
              "      <script src=\"/nbextensions/google.colab/files.js\"></script> "
            ],
            "text/plain": [
              "<IPython.core.display.HTML object>"
            ]
          },
          "metadata": {
            "tags": []
          }
        },
        {
          "output_type": "stream",
          "text": [
            "Saving p_mean_1000.csv to p_mean_1000 (3).csv\n"
          ],
          "name": "stdout"
        }
      ]
    },
    {
      "cell_type": "code",
      "metadata": {
        "id": "wOP3-HVwv2mB",
        "colab_type": "code",
        "colab": {}
      },
      "source": [
        "p_mean_1000 = pd.read_csv(io.BytesIO(u1000_1['p_mean_1000.csv']),delimiter=',')"
      ],
      "execution_count": 0,
      "outputs": []
    },
    {
      "cell_type": "markdown",
      "metadata": {
        "id": "Rvi781j8mJDM",
        "colab_type": "text"
      },
      "source": [
        "# Download Plots here "
      ]
    },
    {
      "cell_type": "code",
      "metadata": {
        "id": "ODIzKP0NmIb7",
        "colab_type": "code",
        "colab": {}
      },
      "source": [
        "#files.download('DM-1.pdf')\n",
        "#files.download('DM-2.pdf')"
      ],
      "execution_count": 0,
      "outputs": []
    },
    {
      "cell_type": "code",
      "metadata": {
        "id": "XdaMPEYaEwXL",
        "colab_type": "code",
        "outputId": "3d1ef5e8-b02e-4fb2-de77-43f18c9af654",
        "colab": {
          "base_uri": "https://localhost:8080/",
          "height": 34
        }
      },
      "source": [
        "\"\"\"z=np.linspace(0,6,1000)\n",
        "\n",
        "\n",
        "trial_3 = DM_z_reion(z, 3)\n",
        "trial_6 = DM_z_reion(z, 6)\n",
        "\n",
        "plt.plot(z ,trial_3)\n",
        "plt.plot(z, trial_6)\n",
        "\"\"\""
      ],
      "execution_count": 0,
      "outputs": [
        {
          "output_type": "execute_result",
          "data": {
            "text/plain": [
              "'z=np.linspace(0,6,1000)\\n\\n\\ntrial_3 = DM_z_reion(z, 3)\\ntrial_6 = DM_z_reion(z, 6)\\n\\nplt.plot(z ,trial_3)\\nplt.plot(z, trial_6)\\n'"
            ]
          },
          "metadata": {
            "tags": []
          },
          "execution_count": 18
        }
      ]
    },
    {
      "cell_type": "code",
      "metadata": {
        "id": "-0S9pNGHQbk8",
        "colab_type": "code",
        "outputId": "458abc0f-996f-44c9-9f60-5333e6f29d7c",
        "colab": {
          "base_uri": "https://localhost:8080/",
          "height": 54
        }
      },
      "source": [
        "\"\"\"def Fun(z_reion, z_test, DM_test):  #define a wrapper function for fitting which calculate the residue vector\n",
        "  return DM_z_reion(z_test, z_reion) - DM_test\n",
        "\n",
        "print(np.mean(Fun(3, DM_output[:,0], DM_output[:,1])))\n",
        "print(np.mean(Fun(4, DM_output[:,0], DM_output[:,1])))\n",
        "print(np.mean(Fun(5, DM_output[:,0], DM_output[:,1])))\n",
        "print(np.mean(Fun(6, DM_output[:,0], DM_output[:,1])))\n",
        "x0=np.array([5.9]) #initial guess\n",
        "\n",
        "res_lsq = least_squares(Fun, x0, gtol=0, method='trf', args=(DM_output[:,0], DM_output[:,1]))\n",
        "\n",
        "print(res_lsq.status)\n",
        "print(res_lsq.fun)\"\"\""
      ],
      "execution_count": 0,
      "outputs": [
        {
          "output_type": "execute_result",
          "data": {
            "text/plain": [
              "\"def Fun(z_reion, z_test, DM_test):  #define a wrapper function for fitting which calculate the residue vector\\n  return DM_z_reion(z_test, z_reion) - DM_test\\n\\nprint(np.mean(Fun(3, DM_output[:,0], DM_output[:,1])))\\nprint(np.mean(Fun(4, DM_output[:,0], DM_output[:,1])))\\nprint(np.mean(Fun(5, DM_output[:,0], DM_output[:,1])))\\nprint(np.mean(Fun(6, DM_output[:,0], DM_output[:,1])))\\nx0=np.array([5.9]) #initial guess\\n\\nres_lsq = least_squares(Fun, x0, gtol=0, method='trf', args=(DM_output[:,0], DM_output[:,1]))\\n\\nprint(res_lsq.status)\\nprint(res_lsq.fun)\""
            ]
          },
          "metadata": {
            "tags": []
          },
          "execution_count": 19
        }
      ]
    },
    {
      "cell_type": "code",
      "metadata": {
        "id": "6etlFy_YQeQD",
        "colab_type": "code",
        "outputId": "8f3a37f7-bcaa-4ebb-bfda-4e6effed2542",
        "colab": {
          "base_uri": "https://localhost:8080/",
          "height": 54
        }
      },
      "source": [
        "\"\"\"def Fun_noise(z_reion, z_test, DM_test):  #define a wrapper function with noise compensation\n",
        "  noise = np.mean(DM_galaxy(1000))\n",
        "  return DM_z_reion(z_test, z_reion) - DM_test + noise\n",
        "\n",
        "\n",
        "print(np.mean(Fun_noise(3, DM_output[:,0], DM_output[:,1])))\n",
        "print(np.mean(Fun_noise(4, DM_output[:,0], DM_output[:,1])))\n",
        "print(np.mean(Fun_noise(5, DM_output[:,0], DM_output[:,1])))\n",
        "print(np.mean(Fun_noise(6, DM_output[:,0], DM_output[:,1])))\n",
        "\n",
        "x0=1 #initial guess\n",
        "print(np.mean(Fun_noise(np.array([3]), DM_output[:,0], DM_output[:,1])))\n",
        "\n",
        "res_lsq = least_squares(Fun_noise, x0, gtol=0, method='dogbox', args=(DM_output[:,0], DM_output[:,1]))\n",
        "print(res_lsq.x)\"\"\""
      ],
      "execution_count": 0,
      "outputs": [
        {
          "output_type": "execute_result",
          "data": {
            "text/plain": [
              "\"def Fun_noise(z_reion, z_test, DM_test):  #define a wrapper function with noise compensation\\n  noise = np.mean(DM_galaxy(1000))\\n  return DM_z_reion(z_test, z_reion) - DM_test + noise\\n\\n\\nprint(np.mean(Fun_noise(3, DM_output[:,0], DM_output[:,1])))\\nprint(np.mean(Fun_noise(4, DM_output[:,0], DM_output[:,1])))\\nprint(np.mean(Fun_noise(5, DM_output[:,0], DM_output[:,1])))\\nprint(np.mean(Fun_noise(6, DM_output[:,0], DM_output[:,1])))\\n\\nx0=1 #initial guess\\nprint(np.mean(Fun_noise(np.array([3]), DM_output[:,0], DM_output[:,1])))\\n\\nres_lsq = least_squares(Fun_noise, x0, gtol=0, method='dogbox', args=(DM_output[:,0], DM_output[:,1]))\\nprint(res_lsq.x)\""
            ]
          },
          "metadata": {
            "tags": []
          },
          "execution_count": 20
        }
      ]
    }
  ]
}